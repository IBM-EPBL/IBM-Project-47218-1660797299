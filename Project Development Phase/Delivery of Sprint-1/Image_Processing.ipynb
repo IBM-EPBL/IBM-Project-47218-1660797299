{
  "cells": [
    {
      "cell_type": "code",
      "execution_count": 1,
      "metadata": {
        "id": "DUopFGuSj6cg"
      },
      "outputs": [],
      "source": [
        "from keras.preprocessing.image import ImageDataGenerator\n",
        "train_datagen=ImageDataGenerator(rescale=1./255,shear_range=0.2,zoom_range=0.2,horizontal_flip=True)\n",
        "test_datagen=ImageDataGenerator(rescale=1)"
      ]
    },
    {
      "cell_type": "code",
      "execution_count": 4,
      "metadata": {
        "colab": {
          "base_uri": "https://localhost:8080/"
        },
        "id": "75s-fQ3hk6ah",
        "outputId": "91e31843-ba2b-4e75-b052-354b00ac9269"
      },
      "outputs": [
        {
          "output_type": "stream",
          "name": "stdout",
          "text": [
            "Found 5393 images belonging to 6 classes.\n",
            "Found 1686 images belonging to 6 classes.\n"
          ]
        }
      ],
      "source": [
        "x_train=train_datagen.flow_from_directory(r'/content/drive/MyDrive/Dataset/fruit-dataset/fruit-dataset/train',target_size=(128,128),batch_size=2,class_mode='categorical')\n",
        "x_test = test_datagen.flow_from_directory(r'/content/drive/MyDrive/Dataset/fruit-dataset/fruit-dataset/test',target_size = (128,128), batch_size = 32, class_mode = 'categorical')"
      ]
    },
    {
      "cell_type": "code",
      "source": [
        "x_train = train_datagen.flow_from_directory(r'/content/drive/MyDrive/Dataset/Veg-dataset/train_set',target_size = (128,128), batch_size = 32, class_mode = 'categorical')\n",
        "x_test = test_datagen.flow_from_directory(r'/content/drive/MyDrive/Dataset/Veg-dataset/test_set',target_size = (128,128), batch_size = 32, class_mode = 'categorical')"
      ],
      "metadata": {
        "id": "sPaidEUGOTEQ",
        "colab": {
          "base_uri": "https://localhost:8080/"
        },
        "outputId": "ac158bf6-2839-45f1-c31f-97dc61d5ef8a"
      },
      "execution_count": 5,
      "outputs": [
        {
          "output_type": "stream",
          "name": "stdout",
          "text": [
            "Found 11396 images belonging to 9 classes.\n",
            "Found 3342 images belonging to 9 classes.\n"
          ]
        }
      ]
    }
  ],
  "metadata": {
    "colab": {
      "provenance": []
    },
    "kernelspec": {
      "display_name": "Python 3",
      "name": "python3"
    },
    "language_info": {
      "name": "python"
    }
  },
  "nbformat": 4,
  "nbformat_minor": 0
}